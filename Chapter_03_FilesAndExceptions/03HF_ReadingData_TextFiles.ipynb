{
 "cells": [
  {
   "cell_type": "markdown",
   "metadata": {},
   "source": [
    "## getcwd() ; "
   ]
  },
  {
   "cell_type": "code",
   "execution_count": 2,
   "metadata": {
    "collapsed": false
   },
   "outputs": [
    {
     "data": {
      "text/plain": [
       "'G:\\\\GIT Repository\\\\myPythonTrials\\\\HF_Python\\\\Chapter_03_FilesAndExceptions'"
      ]
     },
     "execution_count": 2,
     "metadata": {},
     "output_type": "execute_result"
    }
   ],
   "source": [
    "import os\n",
    "os.getcwd()"
   ]
  },
  {
   "cell_type": "markdown",
   "metadata": {},
   "source": [
    "## readline(); open()"
   ]
  },
  {
   "cell_type": "code",
   "execution_count": 3,
   "metadata": {
    "collapsed": false
   },
   "outputs": [
    {
     "name": "stdout",
     "output_type": "stream",
     "text": [
      "Man: Is this the right room for an argument?\n",
      "Other Man: I've told you once.\n"
     ]
    }
   ],
   "source": [
    "data = open('sketch.txt')\n",
    "print(data.readline(), end='')\n",
    "print(data.readline(), end='')"
   ]
  },
  {
   "cell_type": "markdown",
   "metadata": {},
   "source": [
    "## Split() Function ; Seek() Function"
   ]
  },
  {
   "cell_type": "code",
   "execution_count": 13,
   "metadata": {
    "collapsed": false
   },
   "outputs": [
    {
     "name": "stdout",
     "output_type": "stream",
     "text": [
      "Man said:  Is this the right room for an argument?\n",
      "Other Man said:  I've told you once.\n",
      "Man said:  No you haven't!\n",
      "Other Man said:  Yes I have.\n",
      "Man said:  When?\n",
      "Other Man said:  Just now.\n",
      "Man said:  No you didn't!\n",
      "Other Man said:  Yes I did!\n",
      "Man said:  You didn't!\n",
      "Other Man said:  I'm telling you, I did!\n",
      "Man said:  You did not!\n",
      "Other Man said:  Oh I'm sorry, is this a five minute argument, or the full half hour?\n",
      "Man said:  Ah! (taking out his wallet and paying) Just the five minutes.\n",
      "Other Man said:  Just the five minutes. Thank you.\n",
      "Other Man said:  Anyway, I did.\n",
      "Man said:  You most certainly did not!\n",
      "Other Man said:  Now let's get one thing quite clear: I most definitely told you!\n",
      "Man said:  Oh no you didn't!\n",
      "Other Man said:  Oh yes I did!\n",
      "Man said:  Oh no you didn't!\n",
      "Other Man said:  Oh yes I did!\n",
      "Man said:  Oh look, this isn't an argument!\n"
     ]
    },
    {
     "ename": "ValueError",
     "evalue": "not enough values to unpack (expected 2, got 1)",
     "output_type": "error",
     "traceback": [
      "\u001b[0;31m---------------------------------------------------------------------------\u001b[0m",
      "\u001b[0;31mValueError\u001b[0m                                Traceback (most recent call last)",
      "\u001b[0;32m<ipython-input-13-64ffeac3cffb>\u001b[0m in \u001b[0;36m<module>\u001b[0;34m()\u001b[0m\n\u001b[1;32m      1\u001b[0m \u001b[0mdata\u001b[0m\u001b[1;33m.\u001b[0m\u001b[0mseek\u001b[0m\u001b[1;33m(\u001b[0m\u001b[1;36m0\u001b[0m\u001b[1;33m)\u001b[0m\u001b[1;33m\u001b[0m\u001b[0m\n\u001b[1;32m      2\u001b[0m \u001b[1;32mfor\u001b[0m \u001b[0meach_line\u001b[0m \u001b[1;32min\u001b[0m \u001b[0mdata\u001b[0m\u001b[1;33m:\u001b[0m\u001b[1;33m\u001b[0m\u001b[0m\n\u001b[0;32m----> 3\u001b[0;31m     \u001b[1;33m(\u001b[0m\u001b[0mrole\u001b[0m\u001b[1;33m,\u001b[0m \u001b[0mline_spoken\u001b[0m\u001b[1;33m)\u001b[0m \u001b[1;33m=\u001b[0m \u001b[0meach_line\u001b[0m\u001b[1;33m.\u001b[0m\u001b[0msplit\u001b[0m\u001b[1;33m(\u001b[0m\u001b[1;34m':'\u001b[0m\u001b[1;33m,\u001b[0m \u001b[1;36m1\u001b[0m\u001b[1;33m)\u001b[0m\u001b[1;33m\u001b[0m\u001b[0m\n\u001b[0m\u001b[1;32m      4\u001b[0m     \u001b[0mprint\u001b[0m\u001b[1;33m(\u001b[0m\u001b[0mrole\u001b[0m\u001b[1;33m,\u001b[0m \u001b[0mend\u001b[0m\u001b[1;33m=\u001b[0m\u001b[1;34m''\u001b[0m\u001b[1;33m)\u001b[0m\u001b[1;33m\u001b[0m\u001b[0m\n\u001b[1;32m      5\u001b[0m     \u001b[0mprint\u001b[0m\u001b[1;33m(\u001b[0m\u001b[1;34m' said: '\u001b[0m\u001b[1;33m,\u001b[0m \u001b[0mend\u001b[0m\u001b[1;33m=\u001b[0m\u001b[1;34m''\u001b[0m\u001b[1;33m)\u001b[0m\u001b[1;33m\u001b[0m\u001b[0m\n",
      "\u001b[0;31mValueError\u001b[0m: not enough values to unpack (expected 2, got 1)"
     ]
    }
   ],
   "source": [
    "data.seek(0)\n",
    "for each_line in data:\n",
    "    (role, line_spoken) = each_line.split(':', 1)\n",
    "    print(role, end='')\n",
    "    print(' said: ', end='')\n",
    "    print(line_spoken, end='')\n",
    "#    print(each_line, end='')"
   ]
  },
  {
   "cell_type": "markdown",
   "metadata": {},
   "source": [
    "## Find() Function -  locate a substring in another string. Returns position or -1"
   ]
  },
  {
   "cell_type": "code",
   "execution_count": 18,
   "metadata": {
    "collapsed": false
   },
   "outputs": [
    {
     "data": {
      "text/plain": [
       "-1"
      ]
     },
     "execution_count": 18,
     "metadata": {},
     "output_type": "execute_result"
    }
   ],
   "source": [
    "each_line = \"I tell you, there's no such thing as a flying circus.\" \n",
    "each_line.find(':')   "
   ]
  },
  {
   "cell_type": "code",
   "execution_count": 19,
   "metadata": {
    "collapsed": false
   },
   "outputs": [
    {
     "data": {
      "text/plain": [
       "10"
      ]
     },
     "execution_count": 19,
     "metadata": {},
     "output_type": "execute_result"
    }
   ],
   "source": [
    "each_line1 = \"I tell you: there's no such thing as a flying circus.\" \n",
    "each_line1.find(':') "
   ]
  },
  {
   "cell_type": "code",
   "execution_count": 22,
   "metadata": {
    "collapsed": false
   },
   "outputs": [
    {
     "name": "stdout",
     "output_type": "stream",
     "text": [
      "Man said:  Is this the right room for an argument?\n",
      "Other Man said:  I've told you once.\n",
      "Man said:  No you haven't!\n",
      "Other Man said:  Yes I have.\n",
      "Man said:  When?\n",
      "Other Man said:  Just now.\n",
      "Man said:  No you didn't!\n",
      "Other Man said:  Yes I did!\n",
      "Man said:  You didn't!\n",
      "Other Man said:  I'm telling you, I did!\n",
      "Man said:  You did not!\n",
      "Other Man said:  Oh I'm sorry, is this a five minute argument, or the full half hour?\n",
      "Man said:  Ah! (taking out his wallet and paying) Just the five minutes.\n",
      "Other Man said:  Just the five minutes. Thank you.\n",
      "Other Man said:  Anyway, I did.\n",
      "Man said:  You most certainly did not!\n",
      "Other Man said:  Now let's get one thing quite clear: I most definitely told you!\n",
      "Man said:  Oh no you didn't!\n",
      "Other Man said:  Oh yes I did!\n",
      "Man said:  Oh no you didn't!\n",
      "Other Man said:  Oh yes I did!\n",
      "Man said:  Oh look, this isn't an argument!\n",
      "Other Man said:  Yes it is!\n",
      "Man said:  No it isn't!\n",
      "Man said:  It's just contradiction!\n",
      "Other Man said:  No it isn't!\n",
      "Man said:  It IS!\n",
      "Other Man said:  It is NOT!\n",
      "Man said:  You just contradicted me!\n",
      "Other Man said:  No I didn't!\n",
      "Man said:  You DID!\n",
      "Other Man said:  No no no!\n",
      "Man said:  You did just then!\n",
      "Other Man said:  Nonsense!\n",
      "Man said:  (exasperated) Oh, this is futile!!\n",
      "Other Man said:  No it isn't!\n",
      "Man said:  Yes it is!\n"
     ]
    }
   ],
   "source": [
    "data = open('sketch.txt')\n",
    "for each_line in data:\n",
    "    if not each_line.find(':') == -1:\n",
    "        (role, line_spoken) = each_line.split(':', 1)\n",
    "        print(role, end='')\n",
    "        print(' said: ', end='')\n",
    "        print(line_spoken, end='')\n",
    "data.close()"
   ]
  },
  {
   "cell_type": "code",
   "execution_count": null,
   "metadata": {
    "collapsed": true
   },
   "outputs": [],
   "source": []
  }
 ],
 "metadata": {
  "kernelspec": {
   "display_name": "Python 3",
   "language": "python",
   "name": "python3"
  },
  "language_info": {
   "codemirror_mode": {
    "name": "ipython",
    "version": 3
   },
   "file_extension": ".py",
   "mimetype": "text/x-python",
   "name": "python",
   "nbconvert_exporter": "python",
   "pygments_lexer": "ipython3",
   "version": "3.6.0"
  }
 },
 "nbformat": 4,
 "nbformat_minor": 2
}
