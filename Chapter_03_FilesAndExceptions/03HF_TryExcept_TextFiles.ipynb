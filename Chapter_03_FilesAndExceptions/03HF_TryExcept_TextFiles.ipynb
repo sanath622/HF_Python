{
 "cells": [
  {
   "cell_type": "markdown",
   "metadata": {},
   "source": [
    "## Try / Except"
   ]
  },
  {
   "cell_type": "code",
   "execution_count": 1,
   "metadata": {
    "collapsed": false
   },
   "outputs": [
    {
     "name": "stdout",
     "output_type": "stream",
     "text": [
      "Man says:  Is this the right room for an argument?\n",
      "Other Man says:  I've told you once.\n",
      "Man says:  No you haven't!\n",
      "Other Man says:  Yes I have.\n",
      "Man says:  When?\n",
      "Other Man says:  Just now.\n",
      "Man says:  No you didn't!\n",
      "Other Man says:  Yes I did!\n",
      "Man says:  You didn't!\n",
      "Other Man says:  I'm telling you, I did!\n",
      "Man says:  You did not!\n",
      "Other Man says:  Oh I'm sorry, is this a five minute argument, or the full half hour?\n",
      "Man says:  Ah! (taking out his wallet and paying) Just the five minutes.\n",
      "Other Man says:  Just the five minutes. Thank you.\n",
      "Other Man says:  Anyway, I did.\n",
      "Man says:  You most certainly did not!\n",
      "Other Man says:  Now let's get one thing quite clear: I most definitely told you!\n",
      "Man says:  Oh no you didn't!\n",
      "Other Man says:  Oh yes I did!\n",
      "Man says:  Oh no you didn't!\n",
      "Other Man says:  Oh yes I did!\n",
      "Man says:  Oh look, this isn't an argument!\n",
      "Other Man says:  Yes it is!\n",
      "Man says:  No it isn't!\n",
      "Man says:  It's just contradiction!\n",
      "Other Man says:  No it isn't!\n",
      "Man says:  It IS!\n",
      "Other Man says:  It is NOT!\n",
      "Man says:  You just contradicted me!\n",
      "Other Man says:  No I didn't!\n",
      "Man says:  You DID!\n",
      "Other Man says:  No no no!\n",
      "Man says:  You did just then!\n",
      "Other Man says:  Nonsense!\n",
      "Man says:  (exasperated) Oh, this is futile!!\n",
      "Other Man says:  No it isn't!\n",
      "Man says:  Yes it is!\n"
     ]
    }
   ],
   "source": [
    "try:\n",
    "    data = open('sketch.txt')\n",
    "    for each_line in data:\n",
    "        try:\n",
    "            (role, line_spoken) = each_line.split(':', 1)\n",
    "            print(role, end='')\n",
    "            print(' says: ', end='')\n",
    "            print(line_spoken, end='')\n",
    "        except ValueError:\n",
    "            pass\n",
    "    data.close\n",
    "except IOError:\n",
    "    print('File does not exist')"
   ]
  },
  {
   "cell_type": "code",
   "execution_count": null,
   "metadata": {
    "collapsed": true
   },
   "outputs": [],
   "source": []
  }
 ],
 "metadata": {
  "kernelspec": {
   "display_name": "Python 3",
   "language": "python",
   "name": "python3"
  },
  "language_info": {
   "codemirror_mode": {
    "name": "ipython",
    "version": 3
   },
   "file_extension": ".py",
   "mimetype": "text/x-python",
   "name": "python",
   "nbconvert_exporter": "python",
   "pygments_lexer": "ipython3",
   "version": "3.6.0"
  }
 },
 "nbformat": 4,
 "nbformat_minor": 2
}
