{
 "cells": [
  {
   "cell_type": "markdown",
   "metadata": {},
   "source": [
    "### Importing Data"
   ]
  },
  {
   "cell_type": "code",
   "execution_count": 5,
   "metadata": {
    "collapsed": true
   },
   "outputs": [],
   "source": [
    "with open('james.txt') as jaf:\n",
    "    data = jaf.readline()\n",
    "    james = data.strip().split(',')\n",
    "with open('julie.txt') as juf:\n",
    "    data = juf.readline()\n",
    "    julie = data.strip().split(',')\n",
    "with open('mikey.txt') as mif:\n",
    "    data = mif.readline()\n",
    "    mikey = data.strip().split(',')\n",
    "with open('sarah.txt') as saf:\n",
    "    data = saf.readline()\n",
    "    sarah = data.strip().split(',')"
   ]
  },
  {
   "cell_type": "markdown",
   "metadata": {},
   "source": [
    "### Sanitize Function"
   ]
  },
  {
   "cell_type": "code",
   "execution_count": 6,
   "metadata": {
    "collapsed": true
   },
   "outputs": [],
   "source": [
    "def sanitize(time_string):\n",
    "    if '-' in time_string:\n",
    "        splitter = '-'\n",
    "    elif ':' in time_string:\n",
    "        splitter = \":\"\n",
    "    else:\n",
    "        return(time_string)\n",
    "    \n",
    "    (mins, secs) = time_string.split(splitter)\n",
    "    return(mins + '.' + secs)"
   ]
  },
  {
   "cell_type": "markdown",
   "metadata": {},
   "source": [
    "### Creating Empty Lists to store sorted Data"
   ]
  },
  {
   "cell_type": "code",
   "execution_count": 7,
   "metadata": {
    "collapsed": true
   },
   "outputs": [],
   "source": [
    "clean_james = []\n",
    "clean_julie = []\n",
    "clean_mikey = []\n",
    "clean_sarah = []"
   ]
  },
  {
   "cell_type": "code",
   "execution_count": 8,
   "metadata": {
    "collapsed": false
   },
   "outputs": [],
   "source": [
    "for each_t in james:\n",
    "    clean_james.append(sanitize(each_t))\n",
    "for each_t in julie:\n",
    "    clean_julie.append(sanitize(each_t))\n",
    "for each_t in mikey:\n",
    "    clean_mikey.append(sanitize(each_t))\n",
    "for each_t in sarah:\n",
    "    clean_sarah.append(sanitize(each_t))"
   ]
  },
  {
   "cell_type": "markdown",
   "metadata": {},
   "source": [
    "### Printing Cleaned List"
   ]
  },
  {
   "cell_type": "code",
   "execution_count": 10,
   "metadata": {
    "collapsed": false
   },
   "outputs": [
    {
     "name": "stdout",
     "output_type": "stream",
     "text": [
      "['2.01', '2.01', '2.22', '2.34', '2.34', '2.45', '3.01', '3.10', '3.21']\n",
      "['2.11', '2.11', '2.23', '2.23', '2.59', '3.10', '3.10', '3.21', '3.21']\n",
      "['2.22', '2.38', '2.49', '3.01', '3.01', '3.02', '3.02', '3.02', '3.22']\n",
      "['2.18', '2.25', '2.39', '2.54', '2.55', '2.55', '2.55', '2.58', '2.58']\n"
     ]
    }
   ],
   "source": [
    "print(sorted(clean_james))\n",
    "print(sorted(clean_julie))\n",
    "print(sorted(clean_mikey))\n",
    "print(sorted(clean_sarah))"
   ]
  },
  {
   "cell_type": "code",
   "execution_count": null,
   "metadata": {
    "collapsed": true
   },
   "outputs": [],
   "source": []
  }
 ],
 "metadata": {
  "kernelspec": {
   "display_name": "Python 3",
   "language": "python",
   "name": "python3"
  },
  "language_info": {
   "codemirror_mode": {
    "name": "ipython",
    "version": 3
   },
   "file_extension": ".py",
   "mimetype": "text/x-python",
   "name": "python",
   "nbconvert_exporter": "python",
   "pygments_lexer": "ipython3",
   "version": "3.6.0"
  }
 },
 "nbformat": 4,
 "nbformat_minor": 2
}
