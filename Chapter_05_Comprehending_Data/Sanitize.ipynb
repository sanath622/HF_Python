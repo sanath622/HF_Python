{
 "cells": [
  {
   "cell_type": "code",
   "execution_count": null,
   "metadata": {
    "collapsed": true
   },
   "outputs": [],
   "source": [
    "def sanitize(time_string):\n",
    "    if '-' in time_string:\n",
    "        splitter = '-'\n",
    "    elif ':' in time_string:\n",
    "        splitter = \":\"\n",
    "    else:\n",
    "        return(time_string)\n",
    "    \n",
    "    (mins, secs) = time_string.split(splitter)\n",
    "    return(mins + '.' + secs)\n",
    "    "
   ]
  }
 ],
 "metadata": {
  "kernelspec": {
   "display_name": "Python 3",
   "language": "python",
   "name": "python3"
  },
  "language_info": {
   "codemirror_mode": {
    "name": "ipython",
    "version": 3
   },
   "file_extension": ".py",
   "mimetype": "text/x-python",
   "name": "python",
   "nbconvert_exporter": "python",
   "pygments_lexer": "ipython3",
   "version": "3.6.0"
  }
 },
 "nbformat": 4,
 "nbformat_minor": 2
}
