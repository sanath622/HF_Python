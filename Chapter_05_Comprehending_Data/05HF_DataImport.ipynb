{
 "cells": [
  {
   "cell_type": "code",
   "execution_count": 1,
   "metadata": {
    "collapsed": false
   },
   "outputs": [
    {
     "name": "stdout",
     "output_type": "stream",
     "text": [
      "['2-34', '3:21', '2.34', '2.45', '3.01', '2:01', '2:01', '3:10', '2-22']\n",
      "['2.59', '2.11', '2:11', '2:23', '3-10', '2-23', '3:10', '3.21', '3-21']\n",
      "['2:22', '3.01', '3:01', '3.02', '3:02', '3.02', '3:22', '2.49', '2:38']\n",
      "['2:58', '2.58', '2:39', '2-25', '2-55', '2:54', '2.18', '2:55', '2:55']\n"
     ]
    }
   ],
   "source": [
    "with open('james.txt') as jaf:\n",
    "    data = jaf.readline()\n",
    "    james = data.strip().split(',')\n",
    "with open('julie.txt') as juf:\n",
    "    data = juf.readline()\n",
    "    julie = data.strip().split(',')\n",
    "with open('mikey.txt') as mif:\n",
    "    data = mif.readline()\n",
    "    mikey = data.strip().split(',')\n",
    "with open('sarah.txt') as saf:\n",
    "    data = saf.readline()\n",
    "    sarah = data.strip().split(',')\n",
    "    \n",
    "print(james)\n",
    "print(julie)\n",
    "print(mikey)\n",
    "print(sarah)"
   ]
  }
 ],
 "metadata": {
  "kernelspec": {
   "display_name": "Python 3",
   "language": "python",
   "name": "python3"
  },
  "language_info": {
   "codemirror_mode": {
    "name": "ipython",
    "version": 3
   },
   "file_extension": ".py",
   "mimetype": "text/x-python",
   "name": "python",
   "nbconvert_exporter": "python",
   "pygments_lexer": "ipython3",
   "version": "3.6.0"
  }
 },
 "nbformat": 4,
 "nbformat_minor": 2
}
