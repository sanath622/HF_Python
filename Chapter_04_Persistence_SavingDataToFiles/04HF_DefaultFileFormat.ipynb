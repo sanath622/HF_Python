{
 "cells": [
  {
   "cell_type": "code",
   "execution_count": 1,
   "metadata": {
    "collapsed": false
   },
   "outputs": [
    {
     "name": "stdout",
     "output_type": "stream",
     "text": [
      "['Is this the right room for an argument?', \"No you haven't!\", 'When?', \"No you didn't!\", \"You didn't!\", 'You did not!', 'Ah! (taking out his wallet and paying) Just the five minutes.', 'You most certainly did not!', \"Oh no you didn't!\", \"Oh no you didn't!\", \"Oh look, this isn't an argument!\", \"No it isn't!\", \"It's just contradiction!\", 'It IS!', 'You just contradicted me!', 'You DID!', 'You did just then!', '(exasperated) Oh, this is futile!!', 'Yes it is!']\n",
      "\n"
     ]
    }
   ],
   "source": [
    "with open('man_data.txt') as mdf:\n",
    "    print(mdf.readline())"
   ]
  },
  {
   "cell_type": "markdown",
   "metadata": {},
   "source": [
    "This is not a desirable format. Not easy to read.\n",
    "\n",
    "## Modifying the print_lol() function to improve readability\n",
    "\n",
    "Let’s add a fourth argument to your print_lol() function to identify a place to write your data to. Be sure to give your argument a default value of sys.stdout, so that it continues to write to the screen if no file object is specified when the function is invoked"
   ]
  },
  {
   "cell_type": "code",
   "execution_count": 1,
   "metadata": {
    "collapsed": false
   },
   "outputs": [],
   "source": [
    "import sys\n",
    "\"\"\"This is the 01_HF_ListsWithinLists_Function module and it provides one function called print_lol(), which prints lists that may or may not include nested lists\"\"\"\n",
    "def print_lol_1(the_list, indent = False, level=0, fh=sys.stdout):\n",
    "    \"\"\" This function takes a posotional arguement called \"the_list\", which is any python list(of, possibly nested lists)\n",
    "    Each data item in the list is recursively printed and printed on to the screen on its own line\"\"\"\n",
    "    for each_item in the_list:\n",
    "        if isinstance(each_item, list):\n",
    "            print_lol(each_item, indent, level+1, fh)\n",
    "        else:\n",
    "            if indent:\n",
    "                for tab_stop in range(level):\n",
    "                    print(\"\\t\", end='', file=fh)\n",
    "            print(each_item, file=fh)"
   ]
  },
  {
   "cell_type": "code",
   "execution_count": 3,
   "metadata": {
    "collapsed": false
   },
   "outputs": [],
   "source": [
    "man = []\n",
    "other = []\n",
    "try:\n",
    "    data = open('sketch.txt')\n",
    "    for each_line in data:\n",
    "        try:\n",
    "            (role, line_spoken) = each_line.split(':', 1)\n",
    "            line_spoken = line_spoken.strip()\n",
    "            if role == 'Man':\n",
    "                man.append(line_spoken)\n",
    "            elif role == 'Other Man':\n",
    "                other.append(line_spoken)\n",
    "        except ValueError:\n",
    "            pass\n",
    "    data.close()\n",
    "except IOError:\n",
    "    print('Data File Missing')\n",
    "    \n",
    "try:\n",
    "    with open('man_data.txt', 'w') as man_file:\n",
    "        print_lol_1(man, fh=man_file)\n",
    "    with open('other_day.txt', 'w') as other_file:\n",
    "        print_lol_1(other, fh=other_file)\n",
    "    \n",
    "except IOError as err:\n",
    "    print('File Error' + str(err))\n",
    "#The finally part is substituted by WITH\n",
    "#finally:\n",
    "#    man_file.close()\n",
    "#    other_file.close()"
   ]
  },
  {
   "cell_type": "code",
   "execution_count": null,
   "metadata": {
    "collapsed": true
   },
   "outputs": [],
   "source": []
  }
 ],
 "metadata": {
  "kernelspec": {
   "display_name": "Python 3",
   "language": "python",
   "name": "python3"
  },
  "language_info": {
   "codemirror_mode": {
    "name": "ipython",
    "version": 3
   },
   "file_extension": ".py",
   "mimetype": "text/x-python",
   "name": "python",
   "nbconvert_exporter": "python",
   "pygments_lexer": "ipython3",
   "version": "3.6.0"
  }
 },
 "nbformat": 4,
 "nbformat_minor": 2
}
