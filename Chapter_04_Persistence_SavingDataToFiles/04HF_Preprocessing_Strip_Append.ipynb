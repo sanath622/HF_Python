{
 "cells": [
  {
   "cell_type": "markdown",
   "metadata": {},
   "source": [
    "## Creating Empty Lists"
   ]
  },
  {
   "cell_type": "code",
   "execution_count": 4,
   "metadata": {
    "collapsed": false
   },
   "outputs": [
    {
     "name": "stdout",
     "output_type": "stream",
     "text": [
      "['Is this the right room for an argument?', \"No you haven't!\", 'When?', \"No you didn't!\", \"You didn't!\", 'You did not!', 'Ah! (taking out his wallet and paying) Just the five minutes.', 'You most certainly did not!', \"Oh no you didn't!\", \"Oh no you didn't!\", \"Oh look, this isn't an argument!\", \"No it isn't!\", \"It's just contradiction!\", 'It IS!', 'You just contradicted me!', 'You DID!', 'You did just then!', '(exasperated) Oh, this is futile!!', 'Yes it is!']\n",
      "------------------\n",
      "[\"I've told you once.\", 'Yes I have.', 'Just now.', 'Yes I did!', \"I'm telling you, I did!\", \"Oh I'm sorry, is this a five minute argument, or the full half hour?\", 'Just the five minutes. Thank you.', 'Anyway, I did.', \"Now let's get one thing quite clear: I most definitely told you!\", 'Oh yes I did!', 'Oh yes I did!', 'Yes it is!', \"No it isn't!\", 'It is NOT!', \"No I didn't!\", 'No no no!', 'Nonsense!', \"No it isn't!\"]\n"
     ]
    }
   ],
   "source": [
    "man = []\n",
    "other = []\n",
    "try:\n",
    "    data = open('sketch.txt')\n",
    "    for each_line in data:\n",
    "        try:\n",
    "            (role, line_spoken) = each_line.split(':', 1)\n",
    "            line_spoken = line_spoken.strip()\n",
    "            if role == 'Man':\n",
    "                man.append(line_spoken)\n",
    "            elif role == 'Other Man':\n",
    "                other.append(line_spoken)\n",
    "#            print(role, end='')\n",
    "#            print(' says: ', end='')\n",
    "#            print(line_spoken, end='')\n",
    "        except ValueError:\n",
    "            pass\n",
    "    data.close\n",
    "except IOError:\n",
    "    print('File does not exist')\n",
    "print(man)\n",
    "print('------------------')\n",
    "print(other)"
   ]
  },
  {
   "cell_type": "code",
   "execution_count": null,
   "metadata": {
    "collapsed": true
   },
   "outputs": [],
   "source": []
  }
 ],
 "metadata": {
  "kernelspec": {
   "display_name": "Python 3",
   "language": "python",
   "name": "python3"
  },
  "language_info": {
   "codemirror_mode": {
    "name": "ipython",
    "version": 3
   },
   "file_extension": ".py",
   "mimetype": "text/x-python",
   "name": "python",
   "nbconvert_exporter": "python",
   "pygments_lexer": "ipython3",
   "version": "3.6.0"
  }
 },
 "nbformat": 4,
 "nbformat_minor": 2
}
