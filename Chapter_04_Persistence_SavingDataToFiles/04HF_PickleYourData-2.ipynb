{
 "cells": [
  {
   "cell_type": "code",
   "execution_count": 1,
   "metadata": {
    "collapsed": false
   },
   "outputs": [
    {
     "name": "stdout",
     "output_type": "stream",
     "text": [
      "The Holy Grail\n",
      "1975\n",
      "Terry Jones & Terry Gilliam\n",
      "91\n",
      "Graham Chapman\n",
      "Michael Palin\n",
      "John Cleese\n",
      "Terry Gilliam\n",
      "Eric Idle\n",
      "Terry Jones\n",
      "Is this the right room for an argument?\n",
      "No you haven't!\n",
      "When?\n",
      "No you didn't!\n",
      "You didn't!\n",
      "You did not!\n",
      "Ah! (taking out his wallet and paying) Just the five minutes.\n",
      "You most certainly did not!\n",
      "Oh no you didn't!\n",
      "Oh no you didn't!\n",
      "Oh look, this isn't an argument!\n",
      "No it isn't!\n",
      "It's just contradiction!\n",
      "It IS!\n",
      "You just contradicted me!\n",
      "You DID!\n",
      "You did just then!\n",
      "(exasperated) Oh, this is futile!!\n",
      "Yes it is!\n"
     ]
    }
   ],
   "source": [
    "import pickle\n",
    "import nester\n",
    "\n",
    "new_man= []\n",
    "\n",
    "try:\n",
    "    with open('man_data.txt', 'rb') as man_file:\n",
    "        new_man = pickle.load(man_file)\n",
    "except IOError as err:\n",
    "    print('File Error', + str(err))\n",
    "except pickle.PickleError as perr:\n",
    "    print('File Error', + str(perr))\n",
    "    \n",
    "nester.print_lol(new_man)"
   ]
  },
  {
   "cell_type": "code",
   "execution_count": 2,
   "metadata": {
    "collapsed": false
   },
   "outputs": [
    {
     "name": "stdout",
     "output_type": "stream",
     "text": [
      "Is this the right room for an argument?\n"
     ]
    }
   ],
   "source": [
    "print(new_man[0])"
   ]
  },
  {
   "cell_type": "code",
   "execution_count": 3,
   "metadata": {
    "collapsed": false
   },
   "outputs": [
    {
     "name": "stdout",
     "output_type": "stream",
     "text": [
      "Yes it is!\n"
     ]
    }
   ],
   "source": [
    "print(new_man[-1])"
   ]
  }
 ],
 "metadata": {
  "kernelspec": {
   "display_name": "Python 3",
   "language": "python",
   "name": "python3"
  },
  "language_info": {
   "codemirror_mode": {
    "name": "ipython",
    "version": 3
   },
   "file_extension": ".py",
   "mimetype": "text/x-python",
   "name": "python",
   "nbconvert_exporter": "python",
   "pygments_lexer": "ipython3",
   "version": "3.6.0"
  }
 },
 "nbformat": 4,
 "nbformat_minor": 2
}
