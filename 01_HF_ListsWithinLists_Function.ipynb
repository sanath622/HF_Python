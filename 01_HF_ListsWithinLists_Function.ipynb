{
 "cells": [
  {
   "cell_type": "code",
   "execution_count": 9,
   "metadata": {
    "collapsed": false
   },
   "outputs": [],
   "source": [
    "\"\"\"This is the 01_HF_ListsWithinLists_Function module and it provides one function called print_lol(), which prints lists that may or may not include nested lists\"\"\"\n",
    "def print_lol(the_list):\n",
    "    \"\"\" This function takes a posotional arguement called \"the_list\", which is any python list(of, possibly nested lists)\n",
    "    Each data item in the list is recursively printed and printed on to the screen on its own line\"\"\"\n",
    "    for each_item in the_list:\n",
    "        if isinstance(each_item, list):\n",
    "            print_lol(each_item)\n",
    "        else:\n",
    "            print(each_item)"
   ]
  },
  {
   "cell_type": "code",
   "execution_count": 10,
   "metadata": {
    "collapsed": false
   },
   "outputs": [
    {
     "name": "stdout",
     "output_type": "stream",
     "text": [
      "The Holy Grail\n",
      "1975\n",
      "Terry Jones & Terry Gilliam\n",
      "91\n",
      "Graham Chapman\n",
      "Michael Palin\n",
      "John Cleese\n",
      "Terry Gilliam\n",
      "Eric Idle\n",
      "Terry Jones\n"
     ]
    }
   ],
   "source": [
    "movies = [\"The Holy Grail\", 1975, \"Terry Jones & Terry Gilliam\", 91, \n",
    "           [\"Graham Chapman\", [\"Michael Palin\", \"John Cleese\", \n",
    "                               \"Terry Gilliam\",\"Eric Idle\", \"Terry Jones\"]]]\n",
    "print_lol(movies)"
   ]
  },
  {
   "cell_type": "code",
   "execution_count": null,
   "metadata": {
    "collapsed": true
   },
   "outputs": [],
   "source": []
  }
 ],
 "metadata": {
  "kernelspec": {
   "display_name": "Python 3",
   "language": "python",
   "name": "python3"
  },
  "language_info": {
   "codemirror_mode": {
    "name": "ipython",
    "version": 3
   },
   "file_extension": ".py",
   "mimetype": "text/x-python",
   "name": "python",
   "nbconvert_exporter": "python",
   "pygments_lexer": "ipython3",
   "version": "3.6.0"
  }
 },
 "nbformat": 4,
 "nbformat_minor": 2
}
