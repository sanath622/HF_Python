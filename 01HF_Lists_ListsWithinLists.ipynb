{
 "cells": [
  {
   "cell_type": "code",
   "execution_count": 5,
   "metadata": {
    "collapsed": false
   },
   "outputs": [
    {
     "name": "stdout",
     "output_type": "stream",
     "text": [
      "['The Holy Grail', 1975, 'Terry Jones & Terry Gilliam', 91, ['Graham Chapman', ['Michael Palin', 'John Cleese', 'Terry Gilliam', 'Eric Idle', 'Terry Jones']]]\n",
      "Graham Chapman\n"
     ]
    }
   ],
   "source": [
    "movies = [\"The Holy Grail\", 1975, \"Terry Jones & Terry Gilliam\", 91, \n",
    "           [\"Graham Chapman\", [\"Michael Palin\", \"John Cleese\", \n",
    "                               \"Terry Gilliam\",\"Eric Idle\", \"Terry Jones\"]]]\n",
    "print(movies)\n",
    "print(movies[4][0])"
   ]
  },
  {
   "cell_type": "code",
   "execution_count": 6,
   "metadata": {
    "collapsed": false
   },
   "outputs": [
    {
     "name": "stdout",
     "output_type": "stream",
     "text": [
      "The Holy Grail\n",
      "1975\n",
      "Terry Jones & Terry Gilliam\n",
      "91\n",
      "['Graham Chapman', ['Michael Palin', 'John Cleese', 'Terry Gilliam', 'Eric Idle', 'Terry Jones']]\n"
     ]
    }
   ],
   "source": [
    "for each_item in movies:\n",
    "    print(each_item)"
   ]
  },
  {
   "cell_type": "markdown",
   "metadata": {},
   "source": [
    "Using isinstance()"
   ]
  },
  {
   "cell_type": "code",
   "execution_count": 7,
   "metadata": {
    "collapsed": false
   },
   "outputs": [
    {
     "name": "stdout",
     "output_type": "stream",
     "text": [
      "The Holy Grail\n",
      "1975\n",
      "Terry Jones & Terry Gilliam\n",
      "91\n",
      "Graham Chapman\n",
      "['Michael Palin', 'John Cleese', 'Terry Gilliam', 'Eric Idle', 'Terry Jones']\n"
     ]
    }
   ],
   "source": [
    "for each_item in movies:\n",
    "    if isinstance(each_item, list):\n",
    "        for nested_item in each_item:\n",
    "            print(nested_item)\n",
    "    else:\n",
    "        print(each_item)"
   ]
  },
  {
   "cell_type": "markdown",
   "metadata": {},
   "source": [
    "Adding another if else block to handle lists inside lists"
   ]
  },
  {
   "cell_type": "code",
   "execution_count": null,
   "metadata": {
    "collapsed": true
   },
   "outputs": [],
   "source": []
  },
  {
   "cell_type": "code",
   "execution_count": 8,
   "metadata": {
    "collapsed": false
   },
   "outputs": [
    {
     "name": "stdout",
     "output_type": "stream",
     "text": [
      "The Holy Grail\n",
      "1975\n",
      "Terry Jones & Terry Gilliam\n",
      "91\n",
      "Graham Chapman\n",
      "Michael Palin\n",
      "John Cleese\n",
      "Terry Gilliam\n",
      "Eric Idle\n",
      "Terry Jones\n"
     ]
    }
   ],
   "source": [
    "for each_item in movies:\n",
    "    if isinstance(each_item, list):\n",
    "        for nested_item in each_item:\n",
    "            if isinstance(nested_item, list):\n",
    "                for deeper_item in nested_item:\n",
    "                    print(deeper_item)\n",
    "            else:\n",
    "                print(nested_item)\n",
    "    else:\n",
    "        print(each_item)"
   ]
  }
 ],
 "metadata": {
  "kernelspec": {
   "display_name": "Python 3",
   "language": "python",
   "name": "python3"
  },
  "language_info": {
   "codemirror_mode": {
    "name": "ipython",
    "version": 3
   },
   "file_extension": ".py",
   "mimetype": "text/x-python",
   "name": "python",
   "nbconvert_exporter": "python",
   "pygments_lexer": "ipython3",
   "version": "3.6.0"
  }
 },
 "nbformat": 4,
 "nbformat_minor": 2
}
